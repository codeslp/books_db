{
 "cells": [
  {
   "cell_type": "markdown",
   "metadata": {},
   "source": [
    "# Normalization To Do List  ✅\n",
    "\n",
    "- Check if 'bookid' is unique\n",
    "- Split out extra ppl from author field, multiple authors\n",
    "- Num authors column\n",
    "- Move isbn or anything else from description\n",
    "-  Check for non-english\n",
    "-  Check dates - some mislabeled as 2000 instead of 1900\n",
    "-  Check for nulls, fill if possible?\n",
    "-  Strip extra spaces\n",
    "-  Convert all case to lower case\n",
    "-  Eliminate duplicate entries\n",
    "-  Remove all non-numeric chars from numeric fields\n",
    "-  Standardize as many fields as possible\n",
    "\n",
    "\n",
    "\n",
    "\n",
    "- Check for duplicates again after cleaning"
   ]
  },
  {
   "cell_type": "markdown",
   "metadata": {},
   "source": [
    "# Analysis Notes\n",
    "\n",
    "-  Regarding the \"best books\". The ratings seem immaterial. Sales are what matter right? We don't have data on sales. What is a good proxy for sales?\n",
    "Probably number of ratings, right?"
   ]
  },
  {
   "cell_type": "markdown",
   "metadata": {},
   "source": [
    "# Normalization Notes:\n",
    "\n",
    "1. First Normal Form (1NF)\n",
    "\n",
    "- It only has atomic (indivisible) values. In other words, each cell should contain only one value, not a set of values or empty sets.\n",
    "- Entries in a column are of the same kind. Each column should be of the same type (numeric, text, date, etc.).\n",
    "- Each column in a table should represent a single attribute of the entity modelled by the table (e.g., a 'car' table might have separate columns for 'make', 'model', 'year', etc.)\n",
    "- Order in which data is saved does not matter.\n",
    "\n",
    "--\n",
    "\n",
    "2. Second Normal Form (2NF)\n",
    "\n",
    "- It is in 1NF.\n",
    "- All non-key columns are fully dependent on the primary key. A non-key column must be functionally dependent on the entire set of primary key(s). There should be no partial dependency.\n",
    "- In other words, if a column is dependent on only part of a multi-part primary key, then the table fails 2NF.\n",
    "\n",
    "--\n",
    "\n",
    "3. Third Normal Form (3NF)\n",
    "\n",
    "- It is in 2NF.\n",
    "- It has no transitive dependencies. A transitive dependency occurs when a non-key column is dependent on another non-key column, which is dependent on the primary key.\n",
    "- Every non-key attribute must be functionally dependent on the primary key directly and not through some other non-key attributes.\n",
    "\n"
   ]
  }
 ],
 "metadata": {
  "language_info": {
   "name": "python"
  },
  "orig_nbformat": 4
 },
 "nbformat": 4,
 "nbformat_minor": 2
}
