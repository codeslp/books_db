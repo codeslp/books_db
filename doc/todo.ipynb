{
 "cells": [
  {
   "cell_type": "markdown",
   "metadata": {},
   "source": [
    "# Cleaning & Normalization To Do List  ✅\n",
    "\n",
    "- ✅ Check if 'bookid' is unique - yes, but at end, I think we will drop it in favor of a serial ID\n",
    "- ✅ Bookid is not unique figure out what to do - dropped duplicates. Difference was in price usually\n",
    "- ✅ Pull ISBN from description field into ISBN field, if null or 99999999999 placeholder   \n",
    "- NOTE ON ISBN INFO IN DESCRIPTION FIELD: I cannot now find a good way to eliinate duplicate ISBN information without eliminating some useful infrmation from the description field\n",
    "- ✅ Split out extra ppl from author field, multiple authors\n",
    "- ✅ Split out all list columns into separate tables\n",
    "- ✅ Sort out cases where publish date is earlier than first publish date \n",
    "- ✅ Check dates - some mislabeled as 2000 instead of 1900\n",
    "- ✅ Check for nulls, fill if possible?\n",
    "- ✅ Strip extra spaces\n",
    "- ✅ Eliminate duplicate entries\n",
    "- ✅ Remove all non-numeric chars from numeric fields\n",
    "- ✅ Standardize as many fields as possible\n",
    "- ✅ Look up best way to normalize/handle ratings by stars\n",
    "- ✅ Clean pages field of edition df\n",
    "- ✅ Clean price field of edition df\n",
    "- ✅ Create dfs\n",
    "- ✅ Make sure you're not copying all null rows into dfs\n",
    "- ✅ Set dtypes\n",
    "- ✅ Create tables\n",
    "- ✅ Create relationships\n",
    "- ✅ Load data\n",
    "- ✅ Create read user\n",
    "- ✅ Filled null values with \"missing\" in creator table role column so that it could be included in the primary key\n"
   ]
  },
  {
   "cell_type": "markdown",
   "metadata": {},
   "source": [
    "# Questions to ask stakeholders/users to make further improvements:\n",
    "- Should we clean up the series_num field? There are severl instances where one title contains multiple joined instances from a series of smaller works. \n",
    "- There are 1200 editions with no star_ratings but with ratings and num_ratings values. Do we need to worry about those? Drop them?\n",
    "- How important are the date fields? Should I clean them further?"
   ]
  },
  {
   "cell_type": "markdown",
   "metadata": {},
   "source": [
    "# Analysis Notes\n",
    "\n",
    "-  Regarding the \"best books\". The ratings seem almost irrelevant. Sales are what matter right? We don't have data on sales. What is a good proxy for sales?\n",
    "Probably number of ratings, right?\n",
    "\n",
    "- Probably can't just be the only metric though, bc then it would just be the most popular books. Need to combine with something else. Create a composite metric?\n",
    "\n",
    "- There are 3-6 entries with duplicate ISBNs (depending on how you count) that are not '999999999' placeholders. I have not dropped them from the dfs, bc they have ratings data that might need to be aggregated across them. But I have flagged them with a boolean column `is_duplicate_isbn`.\n",
    "\n",
    "Side bar: thinking about what to use as the \"best\" book metric. Is there a correlation between the number of ratings and the average rating?"
   ]
  },
  {
   "cell_type": "code",
   "execution_count": null,
   "metadata": {},
   "outputs": [],
   "source": [
    "num_ratings_corr = df['numRatings'].corr(df['rating'])\n",
    "print(f\"Number of ratings and ratings correlation: {num_ratings_corr}\")\n"
   ]
  },
  {
   "cell_type": "markdown",
   "metadata": {},
   "source": [
    "# Normalization Notes:\n",
    "\n",
    "1. First Normal Form (1NF)\n",
    "\n",
    "- It only has atomic (indivisible) values. In other words, each cell should contain only one value, not a set of values or empty sets.\n",
    "- Entries in a column are of the same kind. Each column should be of the same type (numeric, text, date, etc.).\n",
    "- Each column in a table should represent a single attribute of the entity modelled by the table (e.g., a 'car' table might have separate columns for 'make', 'model', 'year', etc.)\n",
    "- Order in which data is saved does not matter.\n",
    "\n",
    "--\n",
    "\n",
    "2. Second Normal Form (2NF)\n",
    "\n",
    "- It is in 1NF.\n",
    "- All non-key columns are fully dependent on the primary key. A non-key column must be functionally dependent on the entire set of primary key(s). There should be no partial dependency.\n",
    "- In other words, if a column is dependent on only part of a multi-part primary key, then the table fails 2NF.\n",
    "\n",
    "--\n",
    "\n",
    "3. Third Normal Form (3NF)\n",
    "\n",
    "- It is in 2NF.\n",
    "- It has no transitive dependencies. A transitive dependency occurs when a non-key column is dependent on another non-key column, which is dependent on the primary key.\n",
    "- Every non-key attribute must be functionally dependent on the primary key directly and not through some other non-key attributes.\n",
    "\n"
   ]
  }
 ],
 "metadata": {
  "language_info": {
   "name": "python"
  },
  "orig_nbformat": 4
 },
 "nbformat": 4,
 "nbformat_minor": 2
}
